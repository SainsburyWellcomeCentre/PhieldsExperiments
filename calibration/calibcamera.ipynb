{
 "cells": [
  {
   "cell_type": "markdown",
   "metadata": {},
   "source": [
    "# Camera Calibration Pipeline \n",
    "Insert the folder where the checkerboard markers are stored in the `data_folder`"
   ]
  },
  {
   "cell_type": "code",
   "execution_count": null,
   "metadata": {},
   "outputs": [],
   "source": [
    "import os\n",
    "import cv2\n",
    "import glob\n",
    "import numpy as np\n",
    "import matplotlib.pyplot as plt\n",
    "import argparse\n",
    "\n",
    "######################################################################################\n",
    "data_folder = r\"D:\\PhieldsProject\\3DAcquisistion\\2024-02-29T16-57-51\\Calibration3\"\n",
    "######################################################################################\n",
    "\n",
    "\n",
    "patternsize = (8, 12)\n",
    "pattern = np.zeros((1, patternsize[0] * patternsize[1], 3), np.float32)\n",
    "pattern[0,:,:2] = np.mgrid[0:patternsize[0], 0:patternsize[1]].T.reshape(-1, 2)\n",
    "criteria = (cv2.TERM_CRITERIA_EPS + cv2.TERM_CRITERIA_MAX_ITER, 30, 0.001)\n",
    "\n",
    "objectPoints = []\n",
    "imagePoints = []\n",
    "fnames = glob.glob(data_folder + '/*.png')\n",
    "fnames"
   ]
  },
  {
   "cell_type": "markdown",
   "metadata": {},
   "source": [
    "### Calculate camera parameters \n",
    "Run calibrate camera from opencv using all the checkerboard points found on each image"
   ]
  },
  {
   "cell_type": "code",
   "execution_count": null,
   "metadata": {},
   "outputs": [],
   "source": [
    "\n",
    "for fname in fnames:\n",
    "    print(\"Processing {0}...\".format(os.path.split(fname)[-1]), end=\" \")\n",
    "    img = cv2.imread(fname)\n",
    "    gray = cv2.cvtColor(img, cv2.COLOR_BGR2GRAY)\n",
    "    \n",
    "    flags = cv2.CALIB_CB_ADAPTIVE_THRESH + cv2.CALIB_CB_FAST_CHECK + cv2.CALIB_CB_NORMALIZE_IMAGE\n",
    "    ret, corners = cv2.findChessboardCorners(gray, patternsize, flags)\n",
    "    print(\"Success\" if ret else \"Not found!\")\n",
    "    \n",
    "    if ret:\n",
    "        corners = cv2.cornerSubPix(gray, corners, (11, 11), (-1, -1), criteria)\n",
    "        objectPoints.append(pattern)\n",
    "        imagePoints.append(corners)\n",
    "        \n",
    "        img = cv2.drawChessboardCorners(img, patternsize, corners, ret)\n",
    "    plt.figure()\n",
    "    plt.imshow(img)\n",
    "    plt.draw()\n",
    "    \n",
    "print(\"Calibrating camera with {0} points from {1} images...\".format(\n",
    "    np.prod(np.array(imagePoints).shape) // 2,\n",
    "    len(imagePoints)))\n",
    "ret, intrinsics, distortion, rvecs, tvecs = cv2.calibrateCamera(\n",
    "        objectPoints, imagePoints, gray.shape[::-1], None, None)\n",
    "print(\"Reprojection error: {0}\".format(ret))\n",
    "\n"
   ]
  },
  {
   "cell_type": "markdown",
   "metadata": {},
   "source": [
    "### Save camera yaml file with all parameters"
   ]
  },
  {
   "cell_type": "code",
   "execution_count": null,
   "metadata": {},
   "outputs": [],
   "source": [
    "fname = \"{0}.yml\".format(os.path.split(data_folder)[-1])\n",
    "print(\"Writing calibration file {0}...\".format(fname))\n",
    "flags = cv2.FILE_STORAGE_FORMAT_YAML + cv2.FILE_STORAGE_WRITE\n",
    "f = cv2.FileStorage(data_folder + '/' + fname,flags)\n",
    "f.write('image_width', img.shape[1])\n",
    "f.write('image_height', img.shape[0])\n",
    "f.write('camera_matrix', intrinsics)\n",
    "f.write('distortion_coefficients', distortion)\n",
    "f.write('reprojection_error', ret)\n",
    "f.release()\n",
    "\n",
    "for i,fname in enumerate(fnames):\n",
    "    print(\"Undistorting {0}...\".format(os.path.split(fname)[-1]))\n",
    "    img = cv2.imread(fname)\n",
    "    img = cv2.drawChessboardCorners(img, patternsize, imagePoints[i], True)\n",
    "    \n",
    "    uimg = cv2.undistort(img, intrinsics, distortion)\n",
    "\n",
    "    plt.figure()\n",
    "    plt.imshow(uimg)\n",
    "    plt.draw()"
   ]
  }
 ],
 "metadata": {
  "kernelspec": {
   "display_name": "Python 3",
   "language": "python",
   "name": "python3"
  },
  "language_info": {
   "codemirror_mode": {
    "name": "ipython",
    "version": 3
   },
   "file_extension": ".py",
   "mimetype": "text/x-python",
   "name": "python",
   "nbconvert_exporter": "python",
   "pygments_lexer": "ipython3",
   "version": "3.9.18"
  }
 },
 "nbformat": 4,
 "nbformat_minor": 2
}
