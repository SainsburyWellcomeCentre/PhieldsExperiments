{
 "cells": [
  {
   "cell_type": "code",
   "execution_count": 24,
   "metadata": {},
   "outputs": [],
   "source": [
    "import aeon\n",
    "import pandas as pd\n",
    "from aeon.analysis.utils import distancetravelled\n",
    "from aeon.analysis.plotting import heatmap\n",
    "from matplotlib import pyplot as plt\n",
    "from schema import phields01"
   ]
  },
  {
   "cell_type": "code",
   "execution_count": 25,
   "metadata": {},
   "outputs": [],
   "source": [
    "root = r'D:\\Tests\\auto-loom-aa-dev-4377871\\2025-01-27T01-21-02'"
   ]
  },
  {
   "cell_type": "code",
   "execution_count": null,
   "metadata": {},
   "outputs": [],
   "source": [
    "metadata = aeon.load(root, phields01.Metadata)['metadata'].iloc[0]\n",
    "metadata"
   ]
  },
  {
   "cell_type": "code",
   "execution_count": null,
   "metadata": {},
   "outputs": [],
   "source": [
    "position = aeon.load(root, phields01.CameraTop.Position)\n",
    "position"
   ]
  },
  {
   "cell_type": "code",
   "execution_count": null,
   "metadata": {},
   "outputs": [],
   "source": [
    "val = metadata.Devices.VideoController.GlobalTriggerFrequency\n",
    "float(val)"
   ]
  },
  {
   "cell_type": "code",
   "execution_count": null,
   "metadata": {},
   "outputs": [],
   "source": [
    "fig, ax = plt.subplots(1, 1)\n",
    "heatmap(position[['x','y']],50.0, bins=500, ax=ax)\n",
    "ax.set_xlabel('x (cm)')\n",
    "ax.set_ylabel('y (cm)')\n",
    "plt.show()"
   ]
  },
  {
   "cell_type": "code",
   "execution_count": null,
   "metadata": {},
   "outputs": [],
   "source": [
    "val = aeon.load(root, phields01.Motor)\n",
    "val"
   ]
  },
  {
   "cell_type": "code",
   "execution_count": null,
   "metadata": {},
   "outputs": [],
   "source": [
    "binaryState = aeon.load(root, phields01.CameraTop.BinaryTrackingState)\n",
    "binaryState.plot()"
   ]
  },
  {
   "cell_type": "code",
   "execution_count": null,
   "metadata": {},
   "outputs": [],
   "source": [
    "binaryPosition = aeon.load(root, phields01.CameraTop.BinaryTrackingPosition)\n",
    "mask = binaryPosition['id'] == 0\n",
    "binaryPosition[mask][[\"x\",\"y\"]].plot()\n",
    "mask = binaryPosition['id'] == 1\n",
    "binaryPosition[mask][[\"x\",\"y\"]].plot()"
   ]
  },
  {
   "cell_type": "code",
   "execution_count": null,
   "metadata": {},
   "outputs": [],
   "source": [
    "headTail = aeon.load(root, phields01.CameraTop.HeadTail)\n",
    "headTail"
   ]
  },
  {
   "cell_type": "code",
   "execution_count": null,
   "metadata": {},
   "outputs": [],
   "source": [
    "loomRegion = aeon.load(root, phields01.CameraTop.LoomRegion)\n",
    "loomRegion.plot()"
   ]
  },
  {
   "cell_type": "code",
   "execution_count": null,
   "metadata": {},
   "outputs": [],
   "source": [
    "loomAngle = aeon.load(root, phields01.CameraTop.LoomAngle)\n",
    "loomAngle.plot()"
   ]
  }
 ],
 "metadata": {
  "kernelspec": {
   "display_name": ".venv",
   "language": "python",
   "name": "python3"
  },
  "language_info": {
   "codemirror_mode": {
    "name": "ipython",
    "version": 3
   },
   "file_extension": ".py",
   "mimetype": "text/x-python",
   "name": "python",
   "nbconvert_exporter": "python",
   "pygments_lexer": "ipython3",
   "version": "3.11.9"
  }
 },
 "nbformat": 4,
 "nbformat_minor": 2
}
