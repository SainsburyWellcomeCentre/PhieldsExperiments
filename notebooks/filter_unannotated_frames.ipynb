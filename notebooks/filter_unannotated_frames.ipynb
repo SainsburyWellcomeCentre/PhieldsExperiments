{
 "cells": [
  {
   "cell_type": "markdown",
   "metadata": {},
   "source": [
    "## Notebook to remove unannotated frames from a dataset that has been partially annotated. All unannotated frames are moved into a new folder called 'unannotated', and a new json saved"
   ]
  },
  {
   "cell_type": "code",
   "execution_count": null,
   "metadata": {},
   "outputs": [],
   "source": [
    "import json\n",
    "import os\n",
    "import numpy as np\n",
    "import pandas as pd\n",
    "from collections import defaultdict\n"
   ]
  },
  {
   "cell_type": "markdown",
   "metadata": {},
   "source": [
    "### Function to load and save datasets of the class dataset3D"
   ]
  },
  {
   "cell_type": "code",
   "execution_count": null,
   "metadata": {},
   "outputs": [],
   "source": [
    "def load_dataset(json_path):\n",
    "    with open(json_path) as f:\n",
    "        dataset = json.load(f)\n",
    "    return dataset\n",
    "\n",
    "def save_dataset(dataset, json_path):\n",
    "    with open(json_path, 'w') as f:\n",
    "        json.dump(dataset, f)"
   ]
  },
  {
   "cell_type": "code",
   "execution_count": null,
   "metadata": {},
   "outputs": [],
   "source": [
    "#scratch\n",
    "json_file = r'C:\\tr-dev\\JARVIS-msi\\Training\\test_manyframes_training\\annotations\\instances_train.json'\n",
    "dataset = json.load(open(json_file))\n",
    "annotations = dataset['annotations']\n",
    "annotated_frames = pd.DataFrame(annotations)['image_id']\n",
    "# annotated_frames.plot()"
   ]
  },
  {
   "cell_type": "code",
   "execution_count": null,
   "metadata": {},
   "outputs": [],
   "source": [
    "#scratch\n",
    "images = dataset['images']\n",
    "images[0]['id']\n",
    "images[0]['file_name']"
   ]
  },
  {
   "cell_type": "markdown",
   "metadata": {},
   "source": [
    "## Function to create a subfolder and move selected file to that subfolder"
   ]
  },
  {
   "cell_type": "code",
   "execution_count": null,
   "metadata": {},
   "outputs": [],
   "source": [
    "def move_file_to_subdirectory(file_path, subdirectory):\n",
    "    \n",
    "    directory = os.path.dirname(file_path)\n",
    "    subdirectory_path = os.path.join(directory, subdirectory)\n",
    "    if not os.path.exists(subdirectory_path):\n",
    "        os.makedirs(subdirectory_path)\n",
    "    file_name = os.path.basename(file_path)\n",
    "    new_file_path = os.path.join(subdirectory_path, file_name)\n",
    "    os.rename(file_path, new_file_path)"
   ]
  },
  {
   "cell_type": "markdown",
   "metadata": {},
   "source": [
    "### Function to find and filter the annotated frames"
   ]
  },
  {
   "cell_type": "code",
   "execution_count": null,
   "metadata": {},
   "outputs": [],
   "source": [
    "# Filter out frames without annotations. Automatically move the frames out of the corresponding folder.\n",
    "def filter_frames(dataset, recording_dir):\n",
    "    filtered_images = []\n",
    "    filtered_annotations = []\n",
    "    annotated_frame_ids = set()\n",
    "\n",
    "    for ann in dataset['annotations']:\n",
    "        annotated_frame_ids.add(ann['image_id'])\n",
    "\n",
    "    for img in dataset['images']:\n",
    "        if img['id'] in annotated_frame_ids:\n",
    "            filtered_images.append(img)\n",
    "        else:\n",
    "            file_path = os.path.join(recording_dir, img['file_name'])\n",
    "            if os.path.exists(file_path):\n",
    "                print('Sending ' + file_path + ' to ' + os.path.join(file_path, 'unannotated'))\n",
    "                move_file_to_subdirectory(file_path, 'unannotated')\n",
    "    for ann in dataset['annotations']:\n",
    "        if ann['image_id'] in annotated_frame_ids:\n",
    "            filtered_annotations.append(ann)\n",
    "\n",
    "\n",
    "    dataset['images'] = filtered_images\n",
    "    dataset['annotations'] = filtered_annotations\n",
    "\n",
    "    return dataset, [filtered_annotations, filtered_images]"
   ]
  },
  {
   "cell_type": "code",
   "execution_count": null,
   "metadata": {},
   "outputs": [],
   "source": [
    "# Paths\n",
    "data_dir = r'C:\\tr-dev\\JARVIS-msi\\Training\\test_manyframes_training'\n",
    "annotations_dir = os.path.join(data_dir, 'annotations')\n",
    "recording_dir = os.path.join(data_dir, 'train')\n",
    "train_json_path = os.path.join(annotations_dir, 'instances_train.json')\n",
    "val_json_path = os.path.join(annotations_dir, 'instances_val.json')\n",
    "filtered_train_json_path = os.path.join(annotations_dir, 'filtered_instances_train.json')\n",
    "\n",
    "# Load datasets\n",
    "train_dataset = load_dataset(train_json_path)\n",
    "val_dataset = load_dataset(val_json_path)\n",
    "\n",
    "# Filter datasets\n",
    "filtered_train_dataset,[filtered_annotations, filtered_images] = filter_frames(train_dataset, recording_dir)\n",
    "\n",
    "# Save filtered datasets\n",
    "save_dataset(filtered_train_dataset, filtered_train_json_path)\n",
    "\n",
    "print(\"Filtered datasets saved successfully.\")"
   ]
  }
 ],
 "metadata": {
  "kernelspec": {
   "display_name": "jarvis",
   "language": "python",
   "name": "python3"
  },
  "language_info": {
   "codemirror_mode": {
    "name": "ipython",
    "version": 3
   },
   "file_extension": ".py",
   "mimetype": "text/x-python",
   "name": "python",
   "nbconvert_exporter": "python",
   "pygments_lexer": "ipython3",
   "version": "3.9.19"
  }
 },
 "nbformat": 4,
 "nbformat_minor": 2
}
